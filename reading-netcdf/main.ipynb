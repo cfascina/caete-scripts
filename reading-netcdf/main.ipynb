{
 "cells": [
  {
   "cell_type": "code",
   "execution_count": 1,
   "metadata": {},
   "outputs": [],
   "source": [
    "import netCDF4 as nc"
   ]
  },
  {
   "cell_type": "code",
   "execution_count": 2,
   "metadata": {},
   "outputs": [],
   "source": [
    "ncFile = 'aux/hadgem2es-soil-ancil.nc'"
   ]
  },
  {
   "cell_type": "code",
   "execution_count": 3,
   "metadata": {},
   "outputs": [],
   "source": [
    "dataset = nc.Dataset(ncFile)"
   ]
  },
  {
   "cell_type": "markdown",
   "metadata": {},
   "source": [
    "**Dados gerais do Dataset:**"
   ]
  },
  {
   "cell_type": "code",
   "execution_count": 4,
   "metadata": {},
   "outputs": [
    {
     "data": {
      "text/plain": [
       "<class 'netCDF4._netCDF4.Dataset'>\n",
       "root group (NETCDF3_CLASSIC data model, file format NETCDF3):\n",
       "    history: Fri Mar 15 11:18:55 2013: /project/ukmo/rhel6/nco/bin/ncwa -O -a surface ../hadgem_jules/HadGEM2_Soil_Ancil_NEW.nc ../hadgem_jules/HadGEM2_Soil_Ancil_NEW.nc\n",
       "Wed Mar 13 14:05:38 2013: /project/ukmo/rhel6/nco/bin/ncwa -O -a t HadGEM2_Soil_Ancil.nc HadGEM2_Soil_Ancil_NEW.nc\n",
       "Wed Mar 13 11:34:20 GMT 2013 - XCONV V1.91 16-February-2006\n",
       "    nco_openmp_thread_number: 1\n",
       "    dimensions(sizes): longitude(192), latitude(145)\n",
       "    variables(dimensions): float32 longitude(longitude), float32 latitude(latitude), float32 surface(), float32 t(), float32 field329(latitude, longitude), float32 field330(latitude, longitude), float32 field332(latitude, longitude), float32 field333(latitude, longitude), float32 field335(latitude, longitude), float32 field336(latitude, longitude), float32 field342(latitude, longitude), float32 field1381(latitude, longitude), float32 field1395(latitude, longitude), float32 field1630(latitude, longitude)\n",
       "    groups: "
      ]
     },
     "execution_count": 4,
     "metadata": {},
     "output_type": "execute_result"
    }
   ],
   "source": [
    "dataset"
   ]
  },
  {
   "cell_type": "markdown",
   "metadata": {},
   "source": [
    "**Dimensões do Dataset:**"
   ]
  },
  {
   "cell_type": "code",
   "execution_count": 5,
   "metadata": {},
   "outputs": [
    {
     "data": {
      "text/plain": [
       "{'longitude': <class 'netCDF4._netCDF4.Dimension'>: name = 'longitude', size = 192,\n",
       " 'latitude': <class 'netCDF4._netCDF4.Dimension'>: name = 'latitude', size = 145}"
      ]
     },
     "execution_count": 5,
     "metadata": {},
     "output_type": "execute_result"
    }
   ],
   "source": [
    "dataset.dimensions"
   ]
  },
  {
   "cell_type": "markdown",
   "metadata": {},
   "source": [
    "**Variáveis do Dataset:**"
   ]
  },
  {
   "cell_type": "code",
   "execution_count": 6,
   "metadata": {},
   "outputs": [],
   "source": [
    "# dataset.variables"
   ]
  },
  {
   "cell_type": "markdown",
   "metadata": {},
   "source": [
    "**Valores de variáveis (verificar quais existem na célula acima):**"
   ]
  },
  {
   "cell_type": "code",
   "execution_count": 7,
   "metadata": {},
   "outputs": [
    {
     "data": {
      "text/plain": [
       "masked_array(data=[  0.   ,   1.875,   3.75 ,   5.625,   7.5  ,   9.375,\n",
       "                    11.25 ,  13.125,  15.   ,  16.875,  18.75 ,  20.625,\n",
       "                    22.5  ,  24.375,  26.25 ,  28.125,  30.   ,  31.875,\n",
       "                    33.75 ,  35.625,  37.5  ,  39.375,  41.25 ,  43.125,\n",
       "                    45.   ,  46.875,  48.75 ,  50.625,  52.5  ,  54.375,\n",
       "                    56.25 ,  58.125,  60.   ,  61.875,  63.75 ,  65.625,\n",
       "                    67.5  ,  69.375,  71.25 ,  73.125,  75.   ,  76.875,\n",
       "                    78.75 ,  80.625,  82.5  ,  84.375,  86.25 ,  88.125,\n",
       "                    90.   ,  91.875,  93.75 ,  95.625,  97.5  ,  99.375,\n",
       "                   101.25 , 103.125, 105.   , 106.875, 108.75 , 110.625,\n",
       "                   112.5  , 114.375, 116.25 , 118.125, 120.   , 121.875,\n",
       "                   123.75 , 125.625, 127.5  , 129.375, 131.25 , 133.125,\n",
       "                   135.   , 136.875, 138.75 , 140.625, 142.5  , 144.375,\n",
       "                   146.25 , 148.125, 150.   , 151.875, 153.75 , 155.625,\n",
       "                   157.5  , 159.375, 161.25 , 163.125, 165.   , 166.875,\n",
       "                   168.75 , 170.625, 172.5  , 174.375, 176.25 , 178.125,\n",
       "                   180.   , 181.875, 183.75 , 185.625, 187.5  , 189.375,\n",
       "                   191.25 , 193.125, 195.   , 196.875, 198.75 , 200.625,\n",
       "                   202.5  , 204.375, 206.25 , 208.125, 210.   , 211.875,\n",
       "                   213.75 , 215.625, 217.5  , 219.375, 221.25 , 223.125,\n",
       "                   225.   , 226.875, 228.75 , 230.625, 232.5  , 234.375,\n",
       "                   236.25 , 238.125, 240.   , 241.875, 243.75 , 245.625,\n",
       "                   247.5  , 249.375, 251.25 , 253.125, 255.   , 256.875,\n",
       "                   258.75 , 260.625, 262.5  , 264.375, 266.25 , 268.125,\n",
       "                   270.   , 271.875, 273.75 , 275.625, 277.5  , 279.375,\n",
       "                   281.25 , 283.125, 285.   , 286.875, 288.75 , 290.625,\n",
       "                   292.5  , 294.375, 296.25 , 298.125, 300.   , 301.875,\n",
       "                   303.75 , 305.625, 307.5  , 309.375, 311.25 , 313.125,\n",
       "                   315.   , 316.875, 318.75 , 320.625, 322.5  , 324.375,\n",
       "                   326.25 , 328.125, 330.   , 331.875, 333.75 , 335.625,\n",
       "                   337.5  , 339.375, 341.25 , 343.125, 345.   , 346.875,\n",
       "                   348.75 , 350.625, 352.5  , 354.375, 356.25 , 358.125],\n",
       "             mask=False,\n",
       "       fill_value=1e+20,\n",
       "            dtype=float32)"
      ]
     },
     "execution_count": 7,
     "metadata": {},
     "output_type": "execute_result"
    }
   ],
   "source": [
    "dataset['longitude'][:]"
   ]
  },
  {
   "cell_type": "code",
   "execution_count": 8,
   "metadata": {},
   "outputs": [
    {
     "data": {
      "text/plain": [
       "masked_array(\n",
       "  data=[[0.26499998569488525, 0.26499998569488525, 0.26499998569488525,\n",
       "         ..., 0.26499998569488525, 0.26499998569488525,\n",
       "         0.26499998569488525],\n",
       "        [0.26499998569488525, 0.26499998569488525, 0.26499998569488525,\n",
       "         ..., 0.26499998569488525, 0.26499998569488525,\n",
       "         0.26499998569488525],\n",
       "        [0.26499998569488525, 0.26499998569488525, 0.26499998569488525,\n",
       "         ..., 0.26499998569488525, 0.26499998569488525,\n",
       "         0.26499998569488525],\n",
       "        ...,\n",
       "        [--, --, --, ..., --, --, --],\n",
       "        [--, --, --, ..., --, --, --],\n",
       "        [--, --, --, ..., --, --, --]],\n",
       "  mask=[[False, False, False, ..., False, False, False],\n",
       "        [False, False, False, ..., False, False, False],\n",
       "        [False, False, False, ..., False, False, False],\n",
       "        ...,\n",
       "        [ True,  True,  True, ...,  True,  True,  True],\n",
       "        [ True,  True,  True, ...,  True,  True,  True],\n",
       "        [ True,  True,  True, ...,  True,  True,  True]],\n",
       "  fill_value=2e+20,\n",
       "  dtype=float32)"
      ]
     },
     "execution_count": 8,
     "metadata": {},
     "output_type": "execute_result"
    }
   ],
   "source": [
    "dataset['field336'][:]"
   ]
  }
 ],
 "metadata": {
  "kernelspec": {
   "display_name": "Python 3",
   "language": "python",
   "name": "python3"
  },
  "language_info": {
   "codemirror_mode": {
    "name": "ipython",
    "version": 3
   },
   "file_extension": ".py",
   "mimetype": "text/x-python",
   "name": "python",
   "nbconvert_exporter": "python",
   "pygments_lexer": "ipython3",
   "version": "3.8.3"
  }
 },
 "nbformat": 4,
 "nbformat_minor": 4
}
